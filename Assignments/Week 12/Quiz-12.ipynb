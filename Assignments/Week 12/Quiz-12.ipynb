{
 "cells": [
  {
   "metadata": {},
   "cell_type": "markdown",
   "source": "# Q-1",
   "id": "9ddf7335eecdc3db"
  },
  {
   "metadata": {
    "ExecuteTime": {
     "end_time": "2025-04-05T15:06:22.388303Z",
     "start_time": "2025-04-05T15:06:22.370085Z"
    }
   },
   "cell_type": "code",
   "source": "",
   "id": "a55891ad2901a119",
   "outputs": [],
   "execution_count": null
  },
  {
   "metadata": {},
   "cell_type": "markdown",
   "source": "# Q-2\n",
   "id": "194fbb92f39ad2c"
  },
  {
   "metadata": {
    "ExecuteTime": {
     "end_time": "2025-04-05T15:06:22.486725Z",
     "start_time": "2025-04-05T15:06:22.480565Z"
    }
   },
   "cell_type": "code",
   "source": "",
   "id": "4b0d84860d661484",
   "outputs": [],
   "execution_count": null
  },
  {
   "metadata": {},
   "cell_type": "markdown",
   "source": "# Q-3",
   "id": "e0181c30d1f4e827"
  },
  {
   "metadata": {
    "ExecuteTime": {
     "end_time": "2025-04-05T15:06:22.527148Z",
     "start_time": "2025-04-05T15:06:22.521505Z"
    }
   },
   "cell_type": "code",
   "source": "",
   "id": "d7c162f075c1ad06",
   "outputs": [],
   "execution_count": null
  },
  {
   "metadata": {},
   "cell_type": "markdown",
   "source": "# Q-4",
   "id": "c129a6dbb814701f"
  },
  {
   "metadata": {
    "ExecuteTime": {
     "end_time": "2025-04-05T15:06:22.557009Z",
     "start_time": "2025-04-05T15:06:22.551033Z"
    }
   },
   "cell_type": "code",
   "source": "",
   "id": "fbc079640c7a62e6",
   "outputs": [],
   "execution_count": null
  },
  {
   "metadata": {},
   "cell_type": "markdown",
   "source": "# Q-5",
   "id": "d0439c5b8d071048"
  },
  {
   "metadata": {
    "ExecuteTime": {
     "end_time": "2025-04-05T15:06:22.590857Z",
     "start_time": "2025-04-05T15:06:22.585002Z"
    }
   },
   "cell_type": "code",
   "source": "",
   "id": "6b95a77e6bb01da5",
   "outputs": [],
   "execution_count": null
  },
  {
   "metadata": {},
   "cell_type": "markdown",
   "source": "# Q-6\n",
   "id": "275e457205e40a19"
  },
  {
   "metadata": {
    "ExecuteTime": {
     "end_time": "2025-04-05T15:06:24.764299Z",
     "start_time": "2025-04-05T15:06:24.754737Z"
    }
   },
   "cell_type": "code",
   "source": "",
   "id": "930cc6e4e657ca34",
   "outputs": [],
   "execution_count": null
  },
  {
   "metadata": {},
   "cell_type": "markdown",
   "source": "# Q-7",
   "id": "a5ee4b125aaf8d7c"
  },
  {
   "metadata": {
    "ExecuteTime": {
     "end_time": "2025-04-05T15:06:24.914065Z",
     "start_time": "2025-04-05T15:06:24.908707Z"
    }
   },
   "cell_type": "code",
   "source": "",
   "id": "dae6fd57266c8c71",
   "outputs": [],
   "execution_count": null
  },
  {
   "metadata": {},
   "cell_type": "markdown",
   "source": "# Q-8",
   "id": "ffdad85c8c6b4fd3"
  },
  {
   "metadata": {
    "ExecuteTime": {
     "end_time": "2025-04-05T15:06:24.990620Z",
     "start_time": "2025-04-05T15:06:24.981410Z"
    }
   },
   "cell_type": "code",
   "source": "",
   "id": "656bcf11e4430e28",
   "outputs": [],
   "execution_count": null
  },
  {
   "metadata": {},
   "cell_type": "markdown",
   "source": "# Q-9",
   "id": "7494a7748b135592"
  },
  {
   "metadata": {
    "ExecuteTime": {
     "end_time": "2025-04-05T15:06:25.045171Z",
     "start_time": "2025-04-05T15:06:25.032836Z"
    }
   },
   "cell_type": "code",
   "source": "",
   "id": "e3609af3b3ee1ed9",
   "outputs": [],
   "execution_count": null
  },
  {
   "metadata": {},
   "cell_type": "markdown",
   "source": "# Q-10",
   "id": "4d2e0437d6659060"
  },
  {
   "metadata": {
    "ExecuteTime": {
     "end_time": "2025-04-05T15:06:25.114259Z",
     "start_time": "2025-04-05T15:06:25.108117Z"
    }
   },
   "cell_type": "code",
   "source": "",
   "id": "253c884e6113cdf8",
   "outputs": [],
   "execution_count": null
  }
 ],
 "metadata": {
  "kernelspec": {
   "display_name": "Python 3",
   "language": "python",
   "name": "python3"
  },
  "language_info": {
   "codemirror_mode": {
    "name": "ipython",
    "version": 2
   },
   "file_extension": ".py",
   "mimetype": "text/x-python",
   "name": "python",
   "nbconvert_exporter": "python",
   "pygments_lexer": "ipython2",
   "version": "2.7.6"
  }
 },
 "nbformat": 4,
 "nbformat_minor": 5
}
