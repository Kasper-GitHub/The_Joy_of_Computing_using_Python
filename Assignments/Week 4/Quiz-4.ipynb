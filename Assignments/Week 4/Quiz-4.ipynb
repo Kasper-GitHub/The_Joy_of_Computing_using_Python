{
 "cells": [
  {
   "metadata": {},
   "cell_type": "markdown",
   "source": "## Q-7",
   "id": "c98a67a7c3e292de"
  },
  {
   "metadata": {
    "ExecuteTime": {
     "end_time": "2025-02-08T17:55:14.502301Z",
     "start_time": "2025-02-08T17:55:14.495359Z"
    }
   },
   "cell_type": "code",
   "source": [
    "def mystery1(number):\n",
    "    list1 = []\n",
    "    for i in range(1, number):\n",
    "        if number % i == 0:\n",
    "            list1.append(i)\n",
    "    return list1\n",
    "\n",
    "def mystery2(n1, n2):\n",
    "    flag = False\n",
    "    list2 = []\n",
    "    for i in mystery1(n1):\n",
    "        for j in mystery1(n2):\n",
    "            if i == j:\n",
    "                flag = True\n",
    "                list2.append(i)\n",
    "    if len(list2) > 1:\n",
    "        print(\"Completed\")\n",
    "    return flag\n",
    "print(mystery2(0,0))"
   ],
   "id": "4b0d84860d661484",
   "outputs": [
    {
     "name": "stdout",
     "output_type": "stream",
     "text": [
      "False\n"
     ]
    }
   ],
   "execution_count": 11
  },
  {
   "metadata": {},
   "cell_type": "markdown",
   "source": "",
   "id": "5736749df3850302"
  },
  {
   "metadata": {
    "ExecuteTime": {
     "end_time": "2025-02-08T17:55:14.536367Z",
     "start_time": "2025-02-08T17:55:14.532090Z"
    }
   },
   "cell_type": "code",
   "source": "",
   "id": "84adb2b9fd3d3606",
   "outputs": [],
   "execution_count": null
  }
 ],
 "metadata": {
  "kernelspec": {
   "display_name": "Python 3",
   "language": "python",
   "name": "python3"
  },
  "language_info": {
   "codemirror_mode": {
    "name": "ipython",
    "version": 2
   },
   "file_extension": ".py",
   "mimetype": "text/x-python",
   "name": "python",
   "nbconvert_exporter": "python",
   "pygments_lexer": "ipython2",
   "version": "2.7.6"
  }
 },
 "nbformat": 4,
 "nbformat_minor": 5
}
