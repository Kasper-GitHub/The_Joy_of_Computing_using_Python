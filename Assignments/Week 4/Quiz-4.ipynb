{
 "cells": [
  {
   "metadata": {},
   "cell_type": "markdown",
   "source": "## Q-7",
   "id": "c98a67a7c3e292de"
  },
  {
   "metadata": {
    "ExecuteTime": {
     "end_time": "2025-02-08T06:21:41.958667Z",
     "start_time": "2025-02-08T06:21:41.934861Z"
    }
   },
   "cell_type": "code",
   "source": [
    "def mystery1(number):\n",
    "    list1 = []\n",
    "    for i in range(1, number):\n",
    "        if number % i == 0:\n",
    "            list1.append(i)\n",
    "    return list1\n",
    "\n",
    "def mystery2(n1, n2):\n",
    "    flag = False\n",
    "    list2 = []\n",
    "    for i in mystery1(n1):\n",
    "        for j in mystery1(n2):\n",
    "            if i == j:\n",
    "                flag = True\n",
    "                list2.append(i)\n",
    "    if len(list2) > 1:\n",
    "        print(\"Completed\")\n",
    "    return flag\n",
    "print(mystery2(2,3))"
   ],
   "id": "4b0d84860d661484",
   "outputs": [
    {
     "name": "stdout",
     "output_type": "stream",
     "text": [
      "True\n"
     ]
    }
   ],
   "execution_count": 3
  },
  {
   "metadata": {},
   "cell_type": "markdown",
   "source": "",
   "id": "5736749df3850302"
  },
  {
   "metadata": {
    "ExecuteTime": {
     "end_time": "2025-02-08T08:39:39.960024Z",
     "start_time": "2025-02-08T08:39:39.773114Z"
    }
   },
   "cell_type": "code",
   "source": [
    "import numpy as np\n",
    "pos = np.array([])"
   ],
   "id": "425514619a413c4a",
   "outputs": [],
   "execution_count": 5
  },
  {
   "metadata": {
    "ExecuteTime": {
     "end_time": "2025-02-08T08:39:51.064866Z",
     "start_time": "2025-02-08T08:39:51.060291Z"
    }
   },
   "cell_type": "code",
   "source": "print(pos)",
   "id": "77e721c18a373e65",
   "outputs": [
    {
     "name": "stdout",
     "output_type": "stream",
     "text": [
      "[]\n"
     ]
    }
   ],
   "execution_count": 6
  },
  {
   "metadata": {},
   "cell_type": "code",
   "outputs": [],
   "execution_count": null,
   "source": "",
   "id": "84adb2b9fd3d3606"
  }
 ],
 "metadata": {
  "kernelspec": {
   "display_name": "Python 3",
   "language": "python",
   "name": "python3"
  },
  "language_info": {
   "codemirror_mode": {
    "name": "ipython",
    "version": 2
   },
   "file_extension": ".py",
   "mimetype": "text/x-python",
   "name": "python",
   "nbconvert_exporter": "python",
   "pygments_lexer": "ipython2",
   "version": "2.7.6"
  }
 },
 "nbformat": 4,
 "nbformat_minor": 5
}
