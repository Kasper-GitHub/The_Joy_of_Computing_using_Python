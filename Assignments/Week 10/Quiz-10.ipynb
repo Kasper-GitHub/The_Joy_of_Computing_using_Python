{
 "cells": [
  {
   "metadata": {},
   "cell_type": "markdown",
   "source": "# Q-2",
   "id": "9ddf7335eecdc3db"
  },
  {
   "metadata": {
    "ExecuteTime": {
     "end_time": "2025-03-21T15:11:44.189876Z",
     "start_time": "2025-03-21T15:11:44.177944Z"
    }
   },
   "cell_type": "code",
   "source": [
    "s = \"PythonProgramming\"\n",
    "print(s[2:15:3]+s[::-4])"
   ],
   "id": "4b0d84860d661484",
   "outputs": [
    {
     "name": "stdout",
     "output_type": "stream",
     "text": [
      "tnoaigmooP\n"
     ]
    }
   ],
   "execution_count": 1
  },
  {
   "metadata": {},
   "cell_type": "markdown",
   "source": "# Q-3",
   "id": "e0181c30d1f4e827"
  },
  {
   "metadata": {
    "ExecuteTime": {
     "end_time": "2025-03-21T15:13:23.437714Z",
     "start_time": "2025-03-21T15:13:23.425536Z"
    }
   },
   "cell_type": "code",
   "source": [
    "s = \"Python Programming\"\n",
    "print(s.index('o',5,10))"
   ],
   "id": "d7c162f075c1ad06",
   "outputs": [
    {
     "name": "stdout",
     "output_type": "stream",
     "text": [
      "9\n"
     ]
    }
   ],
   "execution_count": 2
  },
  {
   "metadata": {},
   "cell_type": "markdown",
   "source": "# Q-4",
   "id": "c129a6dbb814701f"
  },
  {
   "metadata": {
    "ExecuteTime": {
     "end_time": "2025-03-21T15:37:01.005400Z",
     "start_time": "2025-03-21T15:37:00.971046Z"
    }
   },
   "cell_type": "code",
   "source": [
    "s = \"hello world\"\n",
    "\n",
    "# Using find()\n",
    "print(s.find(\"world\"))   # Output: 6\n",
    "print(s.find(\"python\"))  # Output: -1 (not found)\n",
    "\n",
    "# Using index()\n",
    "print(s.index(\"world\"))   # Output: 6\n",
    "print(s.index(\"python\"))  # Raises ValueError"
   ],
   "id": "fbc079640c7a62e6",
   "outputs": [
    {
     "name": "stdout",
     "output_type": "stream",
     "text": [
      "6\n",
      "-1\n",
      "6\n"
     ]
    },
    {
     "ename": "ValueError",
     "evalue": "substring not found",
     "output_type": "error",
     "traceback": [
      "\u001B[1;31m---------------------------------------------------------------------------\u001B[0m",
      "\u001B[1;31mValueError\u001B[0m                                Traceback (most recent call last)",
      "Cell \u001B[1;32mIn[14], line 9\u001B[0m\n\u001B[0;32m      7\u001B[0m \u001B[38;5;66;03m# Using index()\u001B[39;00m\n\u001B[0;32m      8\u001B[0m \u001B[38;5;28mprint\u001B[39m(s\u001B[38;5;241m.\u001B[39mindex(\u001B[38;5;124m\"\u001B[39m\u001B[38;5;124mworld\u001B[39m\u001B[38;5;124m\"\u001B[39m))   \u001B[38;5;66;03m# Output: 6\u001B[39;00m\n\u001B[1;32m----> 9\u001B[0m \u001B[38;5;28mprint\u001B[39m(\u001B[43ms\u001B[49m\u001B[38;5;241;43m.\u001B[39;49m\u001B[43mindex\u001B[49m\u001B[43m(\u001B[49m\u001B[38;5;124;43m\"\u001B[39;49m\u001B[38;5;124;43mpython\u001B[39;49m\u001B[38;5;124;43m\"\u001B[39;49m\u001B[43m)\u001B[49m)  \u001B[38;5;66;03m# Raises ValueError\u001B[39;00m\n",
      "\u001B[1;31mValueError\u001B[0m: substring not found"
     ]
    }
   ],
   "execution_count": 14
  },
  {
   "metadata": {},
   "cell_type": "markdown",
   "source": "# Q-5",
   "id": "d0439c5b8d071048"
  },
  {
   "metadata": {
    "ExecuteTime": {
     "end_time": "2025-03-21T15:25:13.499103Z",
     "start_time": "2025-03-21T15:25:13.489729Z"
    }
   },
   "cell_type": "code",
   "source": "print(17 % -5)",
   "id": "6b95a77e6bb01da5",
   "outputs": [
    {
     "name": "stdout",
     "output_type": "stream",
     "text": [
      "-3\n"
     ]
    }
   ],
   "execution_count": 10
  },
  {
   "metadata": {},
   "cell_type": "markdown",
   "source": "# Q-7",
   "id": "a5ee4b125aaf8d7c"
  },
  {
   "metadata": {
    "ExecuteTime": {
     "end_time": "2025-03-21T15:34:39.628557Z",
     "start_time": "2025-03-21T15:34:39.614564Z"
    }
   },
   "cell_type": "code",
   "source": [
    "nums = range(1, 50)\n",
    "\n",
    "print(\"A : \",[x for x in nums if x % 3 == 0 and x % 5 != 0])\n",
    "\n",
    "print(\"B : \",[x for x in nums if x % 5 != 0 or x % 3 == 0])\n",
    "\n",
    "print(\"C : \",[x for x in nums if x % 3 != 0 and x % 5 == 0])\n",
    "\n",
    "print(\"D : \",list(filter(lambda x: x % 3 == 0 and x % 5 == 0, nums)))"
   ],
   "id": "dae6fd57266c8c71",
   "outputs": [
    {
     "name": "stdout",
     "output_type": "stream",
     "text": [
      "A :  [3, 6, 9, 12, 18, 21, 24, 27, 33, 36, 39, 42, 48]\n",
      "B :  [1, 2, 3, 4, 6, 7, 8, 9, 11, 12, 13, 14, 15, 16, 17, 18, 19, 21, 22, 23, 24, 26, 27, 28, 29, 30, 31, 32, 33, 34, 36, 37, 38, 39, 41, 42, 43, 44, 45, 46, 47, 48, 49]\n",
      "C :  [5, 10, 20, 25, 35, 40]\n",
      "D :  [15, 30, 45]\n"
     ]
    }
   ],
   "execution_count": 13
  },
  {
   "metadata": {},
   "cell_type": "markdown",
   "source": "# Q-8",
   "id": "ffdad85c8c6b4fd3"
  },
  {
   "metadata": {
    "ExecuteTime": {
     "end_time": "2025-03-21T15:20:17.593013Z",
     "start_time": "2025-03-21T15:20:17.580793Z"
    }
   },
   "cell_type": "code",
   "source": [
    "import numpy as np\n",
    "arr = np.array([[1, [2, 3]], [4, [5, 6]], [7, [8, 9]]], dtype=object)\n",
    "print(arr[1][1][0])"
   ],
   "id": "656bcf11e4430e28",
   "outputs": [
    {
     "name": "stdout",
     "output_type": "stream",
     "text": [
      "5\n"
     ]
    }
   ],
   "execution_count": 6
  },
  {
   "metadata": {},
   "cell_type": "markdown",
   "source": "# Q-9",
   "id": "7494a7748b135592"
  },
  {
   "metadata": {
    "ExecuteTime": {
     "end_time": "2025-03-21T15:20:18.822078Z",
     "start_time": "2025-03-21T15:20:18.810801Z"
    }
   },
   "cell_type": "code",
   "source": [
    "import numpy as np\n",
    "a = np.array([[1, 2, 3], [4, 5, 6]])\n",
    "print(np.sum(a, axis=0 ))"
   ],
   "id": "e3609af3b3ee1ed9",
   "outputs": [
    {
     "name": "stdout",
     "output_type": "stream",
     "text": [
      "[5 7 9]\n"
     ]
    }
   ],
   "execution_count": 7
  },
  {
   "metadata": {},
   "cell_type": "markdown",
   "source": "# Q-10",
   "id": "4d2e0437d6659060"
  },
  {
   "metadata": {
    "ExecuteTime": {
     "end_time": "2025-03-21T15:21:07.475686Z",
     "start_time": "2025-03-21T15:21:07.464851Z"
    }
   },
   "cell_type": "code",
   "source": [
    "import numpy as np\n",
    "a = np.ones((3, 4))\n",
    "b = np.ones((4, 2))\n",
    "c = np.dot(a, b)\n",
    "print(c.shape)"
   ],
   "id": "253c884e6113cdf8",
   "outputs": [
    {
     "name": "stdout",
     "output_type": "stream",
     "text": [
      "(3, 2)\n"
     ]
    }
   ],
   "execution_count": 9
  }
 ],
 "metadata": {
  "kernelspec": {
   "display_name": "Python 3",
   "language": "python",
   "name": "python3"
  },
  "language_info": {
   "codemirror_mode": {
    "name": "ipython",
    "version": 2
   },
   "file_extension": ".py",
   "mimetype": "text/x-python",
   "name": "python",
   "nbconvert_exporter": "python",
   "pygments_lexer": "ipython2",
   "version": "2.7.6"
  }
 },
 "nbformat": 4,
 "nbformat_minor": 5
}
