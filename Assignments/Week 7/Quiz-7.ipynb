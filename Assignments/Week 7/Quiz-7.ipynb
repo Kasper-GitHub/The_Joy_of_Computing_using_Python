{
 "cells": [
  {
   "metadata": {},
   "cell_type": "markdown",
   "source": "## Q-1",
   "id": "c98a67a7c3e292de"
  },
  {
   "metadata": {
    "ExecuteTime": {
     "end_time": "2025-03-09T15:01:27.826093Z",
     "start_time": "2025-03-09T15:01:27.819408Z"
    }
   },
   "cell_type": "code",
   "source": [
    "my_dict={1:2, 2:3, 3:4}\n",
    "x = my_dict[my_dict[1]]\n",
    "print(x)"
   ],
   "id": "4b0d84860d661484",
   "outputs": [
    {
     "name": "stdout",
     "output_type": "stream",
     "text": [
      "3\n"
     ]
    }
   ],
   "execution_count": 1
  },
  {
   "metadata": {},
   "cell_type": "markdown",
   "source": "# Q-2",
   "id": "5736749df3850302"
  },
  {
   "metadata": {
    "ExecuteTime": {
     "end_time": "2025-03-09T15:54:21.237596Z",
     "start_time": "2025-03-09T15:54:21.231848Z"
    }
   },
   "cell_type": "code",
   "source": [
    "def spiral(row, column, arr):\n",
    "    rowStart = 0\n",
    "    columnStart = 0\n",
    "\n",
    "    while rowStart < row and columnStart < column:\n",
    "        for i in range(rowStart, row):\n",
    "            print(arr[i][columnStart], end=\" \")\n",
    "\n",
    "        columnStart = columnStart + 1\n",
    "\n",
    "        for i in range (columnStart, column):\n",
    "            print(arr[row-1][i], end = \" \")\n",
    "\n",
    "        row = row - 1\n",
    "\n",
    "        if (rowStart < row):\n",
    "            for i in range(row-1, rowStart-1, -1):\n",
    "                print(arr[i][column-1], end =\" \")\n",
    "\n",
    "            column = column - 1\n",
    "\n",
    "        if (columnStart < column):\n",
    "            for i in range(column-1, columnStart-1,-1):\n",
    "                print(arr[rowStart] [i], end=\" \")\n",
    "            rowStart = rowStart + 1\n",
    "\n",
    "matrix = [[1, 2, 3], [5, 6, 7], [9, 10, 11]]\n",
    "row = 3\n",
    "column = 3\n",
    "spiral(row, column, matrix)\n"
   ],
   "id": "84adb2b9fd3d3606",
   "outputs": [
    {
     "name": "stdout",
     "output_type": "stream",
     "text": [
      "1 5 9 10 11 7 3 2 6 "
     ]
    }
   ],
   "execution_count": 5
  },
  {
   "metadata": {},
   "cell_type": "markdown",
   "source": "# Q-3",
   "id": "3ac6ad120f2d8b6"
  },
  {
   "metadata": {
    "ExecuteTime": {
     "end_time": "2025-03-09T15:42:33.759110Z",
     "start_time": "2025-03-09T15:42:29.483473Z"
    }
   },
   "cell_type": "code",
   "source": [
    "import turtle\n",
    "\n",
    "pen = turtle.Turtle()\n",
    "\n",
    "for i in range(3):\n",
    "    pen.forward(60)\n",
    "    pen.right(120)\n",
    "\n",
    "turtle.done()"
   ],
   "id": "c8f10d5aa58c4095",
   "outputs": [],
   "execution_count": 1
  },
  {
   "metadata": {},
   "cell_type": "markdown",
   "source": "# Q-4",
   "id": "7ca769319505fdab"
  },
  {
   "metadata": {
    "ExecuteTime": {
     "end_time": "2025-03-09T17:04:03.885674Z",
     "start_time": "2025-03-09T17:03:59.137175Z"
    }
   },
   "cell_type": "code",
   "source": [
    "import turtle\n",
    "pen = turtle.Turtle()\n",
    "\n",
    "for i in range(3):\n",
    "    pen.right(60)\n",
    "    pen.forward(60)\n",
    "    pen.right(60)\n",
    "    pen.forward(60)\n",
    "\n",
    "turtle.done()"
   ],
   "id": "19b1bd06bc993e2e",
   "outputs": [],
   "execution_count": 1
  },
  {
   "metadata": {},
   "cell_type": "markdown",
   "source": "# Q-5",
   "id": "ca6e163cc3554ce1"
  },
  {
   "metadata": {
    "ExecuteTime": {
     "end_time": "2025-03-09T17:06:03.212598Z",
     "start_time": "2025-03-09T17:06:03.199099Z"
    }
   },
   "cell_type": "code",
   "source": [
    "my_dict={}\n",
    "my_dict[1] = \"one\"\n",
    "my_dict[1.0] = \"float one\"\n",
    "my_dict[True] = \"boolean one\"\n",
    "print(my_dict)"
   ],
   "id": "e1449ec26496274d",
   "outputs": [
    {
     "name": "stdout",
     "output_type": "stream",
     "text": [
      "{1: 'boolean one'}\n"
     ]
    }
   ],
   "execution_count": 2
  },
  {
   "metadata": {},
   "cell_type": "markdown",
   "source": "# Q-6",
   "id": "9cead7d02f14d658"
  },
  {
   "metadata": {
    "ExecuteTime": {
     "end_time": "2025-03-09T17:07:48.718113Z",
     "start_time": "2025-03-09T17:07:44.347373Z"
    }
   },
   "cell_type": "code",
   "source": [
    "import turtle\n",
    "\n",
    "pen = turtle.Turtle()\n",
    "\n",
    "for i in range(3):\n",
    "    pen.right(60)\n",
    "    pen.forward(60)\n",
    "    pen.penup()\n",
    "    pen.right(60)\n",
    "    pen.forward(60)\n",
    "    pen.pendown()\n",
    "\n",
    "turtle.done()"
   ],
   "id": "3df717ce3dd3bc79",
   "outputs": [],
   "execution_count": 1
  }
 ],
 "metadata": {
  "kernelspec": {
   "display_name": "Python 3",
   "language": "python",
   "name": "python3"
  },
  "language_info": {
   "codemirror_mode": {
    "name": "ipython",
    "version": 2
   },
   "file_extension": ".py",
   "mimetype": "text/x-python",
   "name": "python",
   "nbconvert_exporter": "python",
   "pygments_lexer": "ipython2",
   "version": "2.7.6"
  }
 },
 "nbformat": 4,
 "nbformat_minor": 5
}
