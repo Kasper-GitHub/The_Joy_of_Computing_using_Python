{
 "cells": [
  {
   "metadata": {},
   "cell_type": "markdown",
   "source": "# Q-4",
   "id": "c129a6dbb814701f"
  },
  {
   "metadata": {
    "ExecuteTime": {
     "end_time": "2025-04-09T13:37:04.370047Z",
     "start_time": "2025-04-09T13:37:04.348259Z"
    }
   },
   "cell_type": "code",
   "source": [
    "for i in range(5):\n",
    "    for j in range(5):\n",
    "        if j == 2:\n",
    "            break\n",
    "        if i == 3:\n",
    "            continue\n",
    "        print(f\"({i}, {j})\", end=\"\")"
   ],
   "id": "fbc079640c7a62e6",
   "outputs": [
    {
     "name": "stdout",
     "output_type": "stream",
     "text": [
      "(0, 0)(0, 1)(1, 0)(1, 1)(2, 0)(2, 1)(4, 0)(4, 1)"
     ]
    }
   ],
   "execution_count": 1
  },
  {
   "metadata": {},
   "cell_type": "markdown",
   "source": "# Q-5",
   "id": "d0439c5b8d071048"
  },
  {
   "metadata": {
    "ExecuteTime": {
     "end_time": "2025-04-09T13:39:10.744656Z",
     "start_time": "2025-04-09T13:39:10.736450Z"
    }
   },
   "cell_type": "code",
   "source": [
    "arr = [3, 8, 1, 7, 9, 2]\n",
    "key = 7\n",
    "for i in range(len(arr)):\n",
    "    if arr[i] == key:\n",
    "        print(f\"Found at index {i}\")\n",
    "        break\n",
    "    if arr[i] % 2 == 0:\n",
    "        continue\n",
    "    print(f\"Checking {arr[i]}\")"
   ],
   "id": "6b95a77e6bb01da5",
   "outputs": [
    {
     "name": "stdout",
     "output_type": "stream",
     "text": [
      "Checking 3\n",
      "Checking 1\n",
      "Found at index 3\n"
     ]
    }
   ],
   "execution_count": 3
  },
  {
   "metadata": {},
   "cell_type": "markdown",
   "source": "# Q-10",
   "id": "4d2e0437d6659060"
  },
  {
   "metadata": {
    "ExecuteTime": {
     "end_time": "2025-04-09T13:37:53.078528Z",
     "start_time": "2025-04-09T13:37:48.770971Z"
    }
   },
   "cell_type": "code",
   "source": [
    "from datetime import datetime\n",
    "import pytz\n",
    "dt_naive = datetime (2024, 2, 29, 12, 0, 0)\n",
    "tz_ist = pytz.timezone('Asia/Kolkata')\n",
    "dt_aware = tz_ist.localize(dt_naive)\n",
    "print(dt_aware.strftime(\"%Y-%m-%d %H:%M:%S %Z\"))"
   ],
   "id": "253c884e6113cdf8",
   "outputs": [
    {
     "name": "stdout",
     "output_type": "stream",
     "text": [
      "2024-02-29 12:00:00 IST\n"
     ]
    }
   ],
   "execution_count": 2
  }
 ],
 "metadata": {
  "kernelspec": {
   "display_name": "Python 3",
   "language": "python",
   "name": "python3"
  },
  "language_info": {
   "codemirror_mode": {
    "name": "ipython",
    "version": 2
   },
   "file_extension": ".py",
   "mimetype": "text/x-python",
   "name": "python",
   "nbconvert_exporter": "python",
   "pygments_lexer": "ipython2",
   "version": "2.7.6"
  }
 },
 "nbformat": 4,
 "nbformat_minor": 5
}
