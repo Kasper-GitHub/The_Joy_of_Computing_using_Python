{
 "cells": [
  {
   "metadata": {},
   "cell_type": "markdown",
   "source": "## Q-2,3",
   "id": "c5ae93d6b4af750e"
  },
  {
   "metadata": {
    "collapsed": true,
    "ExecuteTime": {
     "end_time": "2025-02-08T17:47:37.557299Z",
     "start_time": "2025-02-08T17:47:37.530889Z"
    }
   },
   "cell_type": "code",
   "source": [
    "n= 16\n",
    "a = []\n",
    "for i in range(n):\n",
    "    l1 = []\n",
    "    p = 0\n",
    "    for j in range(i):\n",
    "        l1.append(j)\n",
    "    for k in l1:\n",
    "        p+=1\n",
    "    a.append(p)\n",
    "print(a)\n",
    "k=0\n",
    "for l in a:\n",
    "    k+=l\n",
    "print(k)"
   ],
   "id": "initial_id",
   "outputs": [
    {
     "name": "stdout",
     "output_type": "stream",
     "text": [
      "[0, 1, 2, 3, 4, 5, 6, 7, 8, 9, 10, 11, 12, 13, 14, 15]\n",
      "120\n"
     ]
    }
   ],
   "execution_count": 20
  },
  {
   "metadata": {},
   "cell_type": "markdown",
   "source": "## Q-4,5",
   "id": "5520a24cc7de0722"
  },
  {
   "metadata": {
    "ExecuteTime": {
     "end_time": "2025-02-08T17:47:37.663697Z",
     "start_time": "2025-02-08T17:47:37.654883Z"
    }
   },
   "cell_type": "code",
   "source": [
    "def mystery(container):\n",
    "    result = []\n",
    "    for i in range(len(container)):\n",
    "        if i % 2 != 0:\n",
    "            result.append(container[i] * 4)\n",
    "        else:\n",
    "            result.append(container[i] * (-1))\n",
    "    return result\n",
    "\n",
    "print(mystery([0, 1, 2, 3, 4, 5, 6, 7, 8, 9, 10, 11, 12, 13, 14, 15]))"
   ],
   "id": "178d63f4717e3571",
   "outputs": [
    {
     "name": "stdout",
     "output_type": "stream",
     "text": [
      "[0, 4, -2, 12, -4, 20, -6, 28, -8, 36, -10, 44, -12, 52, -14, 60]\n"
     ]
    }
   ],
   "execution_count": 21
  },
  {
   "metadata": {},
   "cell_type": "markdown",
   "source": "## Q-6",
   "id": "2b8d097e5fb32cac"
  },
  {
   "metadata": {
    "ExecuteTime": {
     "end_time": "2025-02-08T17:47:37.705812Z",
     "start_time": "2025-02-08T17:47:37.698416Z"
    }
   },
   "cell_type": "code",
   "source": [
    "with open(\"file.txt\", \"r\") as f:\n",
    "    data = f.read()\n",
    "    print(data)"
   ],
   "id": "1a7966ac0fd56328",
   "outputs": [
    {
     "name": "stdout",
     "output_type": "stream",
     "text": [
      "1 2 3 4 5\n"
     ]
    }
   ],
   "execution_count": 22
  },
  {
   "metadata": {},
   "cell_type": "markdown",
   "source": "## Q-8,9,10",
   "id": "5e8e5f54d4c14490"
  },
  {
   "metadata": {
    "ExecuteTime": {
     "end_time": "2025-02-08T17:47:37.724241Z",
     "start_time": "2025-02-08T17:47:37.717668Z"
    }
   },
   "cell_type": "code",
   "source": [
    "n = 201\n",
    "k = 0\n",
    "a = []\n",
    "b = 0\n",
    "while (n != 0):\n",
    "    print(\"1\",k,n)\n",
    "    k = k + (n % 10)\n",
    "    print(\"2\",k,n % 10)\n",
    "    a.append(n % 10)\n",
    "    print(\"3\",a)\n",
    "    n = n // 10\n",
    "    print(\"4\",n)\n",
    "print(\"5\",a)\n",
    "a.sort()\n",
    "print(\"6\",a)\n",
    "for i in a:\n",
    "    print(\"7\",b,i)\n",
    "    b = b + i\n",
    "    print(\"8\",b,i)\n",
    "print(\"9\",b,k)\n",
    "if(b != k):\n",
    "    print(\"PYTHON IS FUN\")\n",
    "else:\n",
    "    print(\"PYTHON IS BORING\")"
   ],
   "id": "42b471a29554a862",
   "outputs": [
    {
     "name": "stdout",
     "output_type": "stream",
     "text": [
      "1 0 201\n",
      "2 1 1\n",
      "3 [1]\n",
      "4 20\n",
      "1 1 20\n",
      "2 1 0\n",
      "3 [1, 0]\n",
      "4 2\n",
      "1 1 2\n",
      "2 3 2\n",
      "3 [1, 0, 2]\n",
      "4 0\n",
      "5 [1, 0, 2]\n",
      "6 [0, 1, 2]\n",
      "7 0 0\n",
      "8 0 0\n",
      "7 0 1\n",
      "8 1 1\n",
      "7 1 2\n",
      "8 3 2\n",
      "9 3 3\n",
      "PYTHON IS BORING\n"
     ]
    }
   ],
   "execution_count": 23
  },
  {
   "metadata": {
    "ExecuteTime": {
     "end_time": "2025-02-08T17:47:37.741606Z",
     "start_time": "2025-02-08T17:47:37.736956Z"
    }
   },
   "cell_type": "code",
   "source": "",
   "id": "bdfd68aaf5e559c9",
   "outputs": [],
   "execution_count": null
  }
 ],
 "metadata": {
  "kernelspec": {
   "display_name": "Python 3",
   "language": "python",
   "name": "python3"
  },
  "language_info": {
   "codemirror_mode": {
    "name": "ipython",
    "version": 2
   },
   "file_extension": ".py",
   "mimetype": "text/x-python",
   "name": "python",
   "nbconvert_exporter": "python",
   "pygments_lexer": "ipython2",
   "version": "2.7.6"
  }
 },
 "nbformat": 4,
 "nbformat_minor": 5
}
