{
 "cells": [
  {
   "metadata": {},
   "cell_type": "markdown",
   "source": "## Q-6",
   "id": "c98a67a7c3e292de"
  },
  {
   "metadata": {
    "ExecuteTime": {
     "end_time": "2025-02-08T17:55:14.502301Z",
     "start_time": "2025-02-08T17:55:14.495359Z"
    }
   },
   "cell_type": "code",
   "source": [
    "import random\n",
    "n = 10\n",
    "counter = 0\n",
    "for i in range(n):\n",
    "    choices = [\"rock\", \"paper\", \"scissors\"]\n",
    "    choice1 = random.choice(choices)\n",
    "    choice2 = random.choice(choices)\n",
    "    if choice1 != choice2:\n",
    "        counter += 1\n",
    "print(counter/n)"
   ],
   "id": "4b0d84860d661484",
   "outputs": [
    {
     "name": "stdout",
     "output_type": "stream",
     "text": [
      "False\n"
     ]
    }
   ],
   "execution_count": 11
  },
  {
   "metadata": {},
   "cell_type": "markdown",
   "source": "",
   "id": "5736749df3850302"
  },
  {
   "metadata": {
    "ExecuteTime": {
     "end_time": "2025-02-08T17:55:14.536367Z",
     "start_time": "2025-02-08T17:55:14.532090Z"
    }
   },
   "cell_type": "code",
   "source": "",
   "id": "84adb2b9fd3d3606",
   "outputs": [],
   "execution_count": null
  }
 ],
 "metadata": {
  "kernelspec": {
   "display_name": "Python 3",
   "language": "python",
   "name": "python3"
  },
  "language_info": {
   "codemirror_mode": {
    "name": "ipython",
    "version": 2
   },
   "file_extension": ".py",
   "mimetype": "text/x-python",
   "name": "python",
   "nbconvert_exporter": "python",
   "pygments_lexer": "ipython2",
   "version": "2.7.6"
  }
 },
 "nbformat": 4,
 "nbformat_minor": 5
}
