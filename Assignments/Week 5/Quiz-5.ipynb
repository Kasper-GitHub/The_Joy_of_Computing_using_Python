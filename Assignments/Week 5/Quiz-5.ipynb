{
 "cells": [
  {
   "metadata": {},
   "cell_type": "markdown",
   "source": "## Q-3",
   "id": "c98a67a7c3e292de"
  },
  {
   "metadata": {
    "ExecuteTime": {
     "end_time": "2025-02-24T19:38:32.465391Z",
     "start_time": "2025-02-24T19:38:32.460069Z"
    }
   },
   "cell_type": "code",
   "source": [
    "import random\n",
    "initial_choice = random.randint(0, 2)\n",
    "doors = ['goat', 'goat', 'car']\n",
    "\n",
    "for i in range(3):\n",
    "    if i != initial_choice and doors[i] != 'car':\n",
    "        monty_opens = i\n",
    "        break\n",
    "\n",
    "if 2:\n",
    "    for i in range(3):\n",
    "        if i != initial_choice and i != monty_opens:\n",
    "            final_choice = i\n",
    "            break\n",
    "else:\n",
    "    final_choice = initial_choice\n",
    "\n",
    "print(final_choice)"
   ],
   "id": "47dd12abce24e636",
   "outputs": [
    {
     "name": "stdout",
     "output_type": "stream",
     "text": [
      "1\n"
     ]
    }
   ],
   "execution_count": 135
  },
  {
   "metadata": {},
   "cell_type": "markdown",
   "source": "## Q-6",
   "id": "181104af41fbcdea"
  },
  {
   "metadata": {
    "ExecuteTime": {
     "end_time": "2025-02-08T17:55:14.502301Z",
     "start_time": "2025-02-08T17:55:14.495359Z"
    }
   },
   "cell_type": "code",
   "source": [
    "import random\n",
    "n = 10\n",
    "counter = 0\n",
    "for i in range(n):\n",
    "    choices = [\"rock\", \"paper\", \"scissors\"]\n",
    "    choice1 = random.choice(choices)\n",
    "    choice2 = random.choice(choices)\n",
    "    if choice1 != choice2:\n",
    "        counter += 1\n",
    "print(counter/n)"
   ],
   "id": "4b0d84860d661484",
   "outputs": [
    {
     "name": "stdout",
     "output_type": "stream",
     "text": [
      "False\n"
     ]
    }
   ],
   "execution_count": 11
  },
  {
   "metadata": {},
   "cell_type": "markdown",
   "source": "",
   "id": "5736749df3850302"
  },
  {
   "metadata": {
    "ExecuteTime": {
     "end_time": "2025-02-08T17:55:14.536367Z",
     "start_time": "2025-02-08T17:55:14.532090Z"
    }
   },
   "cell_type": "code",
   "source": "",
   "id": "84adb2b9fd3d3606",
   "outputs": [],
   "execution_count": null
  }
 ],
 "metadata": {
  "kernelspec": {
   "display_name": "Python 3",
   "language": "python",
   "name": "python3"
  },
  "language_info": {
   "codemirror_mode": {
    "name": "ipython",
    "version": 2
   },
   "file_extension": ".py",
   "mimetype": "text/x-python",
   "name": "python",
   "nbconvert_exporter": "python",
   "pygments_lexer": "ipython2",
   "version": "2.7.6"
  }
 },
 "nbformat": 4,
 "nbformat_minor": 5
}
