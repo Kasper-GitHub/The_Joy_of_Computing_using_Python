{
 "cells": [
  {
   "metadata": {},
   "cell_type": "markdown",
   "source": "# Q-1",
   "id": "9ddf7335eecdc3db"
  },
  {
   "metadata": {
    "ExecuteTime": {
     "end_time": "2025-03-08T05:46:04.572776Z",
     "start_time": "2025-03-08T05:46:04.565573Z"
    }
   },
   "cell_type": "code",
   "source": [
    "tup = ([1, 2], [3, 4])\n",
    "tup[0].append(5)\n",
    "print(tup)"
   ],
   "id": "4b0d84860d661484",
   "outputs": [
    {
     "name": "stdout",
     "output_type": "stream",
     "text": [
      "([1, 2, 5], [3, 4])\n"
     ]
    }
   ],
   "execution_count": 1
  },
  {
   "metadata": {},
   "cell_type": "markdown",
   "source": "# Q-3",
   "id": "e0181c30d1f4e827"
  },
  {
   "metadata": {
    "ExecuteTime": {
     "end_time": "2025-03-08T06:23:26.760440Z",
     "start_time": "2025-03-08T06:23:26.754824Z"
    }
   },
   "cell_type": "code",
   "source": [
    "t = (1, 2, 3, 4, 5)\n",
    "for i in range(-1,-len(t), -1):\n",
    "    print(t[i])"
   ],
   "id": "d7c162f075c1ad06",
   "outputs": [
    {
     "name": "stdout",
     "output_type": "stream",
     "text": [
      "5\n",
      "4\n",
      "3\n",
      "2\n"
     ]
    }
   ],
   "execution_count": 12
  },
  {
   "metadata": {},
   "cell_type": "markdown",
   "source": "# Q-4",
   "id": "7494a7748b135592"
  },
  {
   "metadata": {
    "ExecuteTime": {
     "end_time": "2025-03-08T06:22:25.701801Z",
     "start_time": "2025-03-08T06:22:25.693139Z"
    }
   },
   "cell_type": "code",
   "source": [
    "word = 'facebook'\n",
    "new = ''\n",
    "for w in word:\n",
    "    i = ord(w)\n",
    "    j = (((i+26) - 97 ) % 26) + 97\n",
    "    new = new + chr(j)\n",
    "\n",
    "print(new)"
   ],
   "id": "253c884e6113cdf8",
   "outputs": [
    {
     "name": "stdout",
     "output_type": "stream",
     "text": [
      "facebook\n"
     ]
    }
   ],
   "execution_count": 11
  },
  {
   "metadata": {},
   "cell_type": "markdown",
   "source": "# Q-5",
   "id": "4b2d53d006cb9f25"
  },
  {
   "metadata": {
    "ExecuteTime": {
     "end_time": "2025-03-08T06:19:31.456235Z",
     "start_time": "2025-03-08T06:19:14.496504Z"
    }
   },
   "cell_type": "code",
   "source": [
    "print('Enter a letter between a-z')\n",
    "player1 = str(input())\n",
    "player2 = str(input())\n",
    "\n",
    "while(True):\n",
    "    if(ord(player1.lower())+1 == ord(player2.lower())):\n",
    "        print('clap')\n",
    "        break\n",
    "    else:\n",
    "        player1 = str(input())\n",
    "        player2 = str(input())"
   ],
   "id": "bc4d7bb05824a3e8",
   "outputs": [
    {
     "name": "stdout",
     "output_type": "stream",
     "text": [
      "Enter a letter between a-z\n",
      "clap\n"
     ]
    }
   ],
   "execution_count": 10
  },
  {
   "metadata": {},
   "cell_type": "markdown",
   "source": " # Q-6",
   "id": "bb3444a8956f8f3c"
  },
  {
   "metadata": {
    "ExecuteTime": {
     "end_time": "2025-03-08T05:56:03.837824Z",
     "start_time": "2025-03-08T05:56:02.639819Z"
    }
   },
   "cell_type": "code",
   "source": [
    "import random\n",
    "import matplotlib.pyplot as plt\n",
    "l = []\n",
    "count = 0\n",
    "for i in range(10):\n",
    "    guess = random.randint(1, 10)\n",
    "    pick = random.randint(1, 10)\n",
    "\n",
    "    if(guess!=pick):\n",
    "        count+=1\n",
    "        l.append(count)\n",
    "\n",
    "    else:\n",
    "        count-=1\n",
    "        l.append(count)\n",
    "\n",
    "plt.plot(l)\n",
    "plt.show()"
   ],
   "id": "f3c63c889bfbd60",
   "outputs": [
    {
     "data": {
      "text/plain": [
       "<Figure size 640x480 with 1 Axes>"
      ],
      "image/png": "[encoded data removed]"
     },
     "metadata": {},
     "output_type": "display_data"
    }
   ],
   "execution_count": 7
  },
  {
   "metadata": {},
   "cell_type": "markdown",
   "source": "# Q-8",
   "id": "bcfe22e5c9ce5add"
  },
  {
   "metadata": {
    "ExecuteTime": {
     "end_time": "2025-03-08T05:52:59.205984Z",
     "start_time": "2025-03-08T05:52:59.201645Z"
    }
   },
   "cell_type": "code",
   "source": [
    "string = 'hey!there'\n",
    "a = sorted(string)\n",
    "a.reverse()\n",
    "print(a)"
   ],
   "id": "6c987ab834d80fa6",
   "outputs": [
    {
     "name": "stdout",
     "output_type": "stream",
     "text": [
      "['y', 't', 'r', 'h', 'h', 'e', 'e', 'e', '!']\n"
     ]
    }
   ],
   "execution_count": 6
  },
  {
   "metadata": {},
   "cell_type": "markdown",
   "source": "# Q-10",
   "id": "5736749df3850302"
  },
  {
   "metadata": {
    "ExecuteTime": {
     "end_time": "2025-03-08T05:50:29.254588Z",
     "start_time": "2025-03-08T05:50:29.248339Z"
    }
   },
   "cell_type": "code",
   "source": [
    "def test(word):\n",
    "    new_word = ''\n",
    "    for ch in word:\n",
    "        if ch>='a' and ch<='z':\n",
    "            temp = ord(ch)\n",
    "            temp = temp - 32\n",
    "            temp = chr(temp)\n",
    "            new_word = new_word + temp\n",
    "    return new_word\n",
    "\n",
    "test('ankush')"
   ],
   "id": "84adb2b9fd3d3606",
   "outputs": [
    {
     "data": {
      "text/plain": [
       "'ANKUSH'"
      ]
     },
     "execution_count": 4,
     "metadata": {},
     "output_type": "execute_result"
    }
   ],
   "execution_count": 4
  },
  {
   "metadata": {},
   "cell_type": "markdown",
   "source": "",
   "id": "3d25ea7f347cbeee"
  }
 ],
 "metadata": {
  "kernelspec": {
   "display_name": "Python 3",
   "language": "python",
   "name": "python3"
  },
  "language_info": {
   "codemirror_mode": {
    "name": "ipython",
    "version": 2
   },
   "file_extension": ".py",
   "mimetype": "text/x-python",
   "name": "python",
   "nbconvert_exporter": "python",
   "pygments_lexer": "ipython2",
   "version": "2.7.6"
  }
 },
 "nbformat": 4,
 "nbformat_minor": 5
}
